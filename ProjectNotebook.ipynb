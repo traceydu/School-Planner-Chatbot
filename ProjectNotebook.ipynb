{
 "cells": [
  {
   "cell_type": "markdown",
   "metadata": {},
   "source": [
    "# Project Description"
   ]
  },
  {
   "cell_type": "markdown",
   "metadata": {},
   "source": [
    "Especially in the beginning of the school quarter, it is quite difficult for students to remember what days and what times they have their classes. As a student myself, I find it very convenient and useful to have a school planner that lists out my weekly class schedule so that I can quickly refer to it whenever I need it. Thus for this final project, I decided to make a chatbot that allows the user to input what classes they're taking for that particular school quarter, as well as what days of the week and what times they have for each of their classes. After the user's responses are collected, a weekly class schedule is then generated for the user to easily view. The class schedule is in the form of a dataframe and orders the classes from earliest to latest for each day of the week."
   ]
  },
  {
   "cell_type": "markdown",
   "metadata": {},
   "source": [
    "# Project Code"
   ]
  },
  {
   "cell_type": "code",
   "execution_count": 1,
   "metadata": {},
   "outputs": [],
   "source": [
    "from functions import *"
   ]
  },
  {
   "cell_type": "code",
   "execution_count": 2,
   "metadata": {},
   "outputs": [
    {
     "name": "stdout",
     "output_type": "stream",
     "text": [
      "Hello, I am your school planner chatbot. \n",
      "It's my job to make sure that you know your weekly class schedule! \n",
      "Type \"quit\" at any point if you wish to exit. \n",
      "But first off... what's your name?\n",
      "Input: Tracey\n",
      "Hello Tracey! What classes are you taking this quarter? (ex: COGS18, DSGN1)\n",
      "Input: MATH18, COGS18, COGS9, DSGN1\n",
      "On what days do you have MATH18? (ex: Monday, Wednesday)\n",
      "Input: Monday, Wednesday, Friday\n",
      "What time do you have MATH18? (in military time, ex: 1:00 pm is 13:00)\n",
      "Input: 13:00\n",
      "On what days do you have COGS18? (ex: Monday, Wednesday)\n",
      "Input: Monday, Wednesday, Friday\n",
      "What time do you have COGS18? (in military time, ex: 1:00 pm is 13:00)\n",
      "Input: 10:00\n",
      "On what days do you have COGS9? (ex: Monday, Wednesday)\n",
      "Input: Tuesday, Thursday\n",
      "What time do you have COGS9? (in military time, ex: 1:00 pm is 13:00)\n",
      "Input: 11:00\n",
      "On what days do you have DSGN1? (ex: Monday, Wednesday)\n",
      "Input: Tuesday, Wednesday, Thursday\n",
      "What time do you have DSGN1? (in military time, ex: 1:00 pm is 13:00)\n",
      "Input: 9:30\n"
     ]
    }
   ],
   "source": [
    "my_schedule = start_chat()"
   ]
  },
  {
   "cell_type": "code",
   "execution_count": 3,
   "metadata": {},
   "outputs": [
    {
     "data": {
      "text/html": [
       "<div>\n",
       "<style scoped>\n",
       "    .dataframe tbody tr th:only-of-type {\n",
       "        vertical-align: middle;\n",
       "    }\n",
       "\n",
       "    .dataframe tbody tr th {\n",
       "        vertical-align: top;\n",
       "    }\n",
       "\n",
       "    .dataframe thead th {\n",
       "        text-align: right;\n",
       "    }\n",
       "</style>\n",
       "<table border=\"1\" class=\"dataframe\">\n",
       "  <thead>\n",
       "    <tr style=\"text-align: right;\">\n",
       "      <th></th>\n",
       "      <th>Monday</th>\n",
       "      <th>Tuesday</th>\n",
       "      <th>Wednesday</th>\n",
       "      <th>Thursday</th>\n",
       "      <th>Friday</th>\n",
       "    </tr>\n",
       "  </thead>\n",
       "  <tbody>\n",
       "    <tr>\n",
       "      <th>0</th>\n",
       "      <td>COGS18</td>\n",
       "      <td>DSGN1</td>\n",
       "      <td>DSGN1</td>\n",
       "      <td>DSGN1</td>\n",
       "      <td>COGS18</td>\n",
       "    </tr>\n",
       "    <tr>\n",
       "      <th>1</th>\n",
       "      <td>MATH18</td>\n",
       "      <td>COGS9</td>\n",
       "      <td>COGS18</td>\n",
       "      <td>COGS9</td>\n",
       "      <td>MATH18</td>\n",
       "    </tr>\n",
       "    <tr>\n",
       "      <th>2</th>\n",
       "      <td>NaN</td>\n",
       "      <td>NaN</td>\n",
       "      <td>MATH18</td>\n",
       "      <td>NaN</td>\n",
       "      <td>NaN</td>\n",
       "    </tr>\n",
       "  </tbody>\n",
       "</table>\n",
       "</div>"
      ],
      "text/plain": [
       "   Monday Tuesday Wednesday Thursday  Friday\n",
       "0  COGS18   DSGN1     DSGN1    DSGN1  COGS18\n",
       "1  MATH18   COGS9    COGS18    COGS9  MATH18\n",
       "2     NaN     NaN    MATH18      NaN     NaN"
      ]
     },
     "execution_count": 3,
     "metadata": {},
     "output_type": "execute_result"
    }
   ],
   "source": [
    "my_schedule"
   ]
  },
  {
   "cell_type": "markdown",
   "metadata": {},
   "source": [
    "# Code Tests"
   ]
  },
  {
   "cell_type": "code",
   "execution_count": 4,
   "metadata": {},
   "outputs": [
    {
     "name": "stdout",
     "output_type": "stream",
     "text": [
      "\u001b[1m============================= test session starts ==============================\u001b[0m\n",
      "platform darwin -- Python 3.8.5, pytest-6.1.1, py-1.9.0, pluggy-0.13.1\n",
      "rootdir: /Users/traceydu/Desktop/MyProjectFolder\n",
      "collected 13 items                                                             \u001b[0m\u001b[1m\n",
      "\n",
      "test_functions.py \u001b[32m.\u001b[0m\u001b[32m.\u001b[0m\u001b[32m.\u001b[0m\u001b[32m.\u001b[0m\u001b[32m.\u001b[0m\u001b[32m.\u001b[0m\u001b[32m.\u001b[0m\u001b[32m.\u001b[0m\u001b[32m.\u001b[0m\u001b[32m.\u001b[0m\u001b[32m.\u001b[0m\u001b[32m.\u001b[0m\u001b[32m.\u001b[0m\u001b[32m                                          [100%]\u001b[0m\n",
      "\n",
      "\u001b[32m============================== \u001b[32m\u001b[1m13 passed\u001b[0m\u001b[32m in 1.60s\u001b[0m\u001b[32m ==============================\u001b[0m\n"
     ]
    }
   ],
   "source": [
    "!pytest test_functions.py"
   ]
  }
 ],
 "metadata": {
  "kernelspec": {
   "display_name": "Python 3",
   "language": "python",
   "name": "python3"
  },
  "language_info": {
   "codemirror_mode": {
    "name": "ipython",
    "version": 3
   },
   "file_extension": ".py",
   "mimetype": "text/x-python",
   "name": "python",
   "nbconvert_exporter": "python",
   "pygments_lexer": "ipython3",
   "version": "3.8.5"
  }
 },
 "nbformat": 4,
 "nbformat_minor": 4
}
